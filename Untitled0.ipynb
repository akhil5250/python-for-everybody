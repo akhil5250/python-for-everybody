{
  "nbformat": 4,
  "nbformat_minor": 0,
  "metadata": {
    "colab": {
      "name": "Untitled0.ipynb",
      "provenance": [],
      "authorship_tag": "ABX9TyPUTMKTFncpu24Dx3arh4Ia",
      "include_colab_link": true
    },
    "kernelspec": {
      "name": "python3",
      "display_name": "Python 3"
    }
  },
  "cells": [
    {
      "cell_type": "markdown",
      "metadata": {
        "id": "view-in-github",
        "colab_type": "text"
      },
      "source": [
        "<a href=\"https://colab.research.google.com/github/akhil5250/python-for-everybody/blob/master/Untitled0.ipynb\" target=\"_parent\"><img src=\"https://colab.research.google.com/assets/colab-badge.svg\" alt=\"Open In Colab\"/></a>"
      ]
    },
    {
      "cell_type": "code",
      "metadata": {
        "id": "rrjiWaDLEH0Z",
        "colab_type": "code",
        "colab": {
          "base_uri": "https://localhost:8080/",
          "height": 68
        },
        "outputId": "848f27a1-e9ab-4910-cf71-d3df74eba1ae"
      },
      "source": [
        "#Find number of zeros at the end of factorial of a number x\n",
        "x=int(input())\n",
        "zeros=0\n",
        "a=x\n",
        "print(\"Find number of zeros at last of %d! ?\" %x)\n",
        "while(a>0):\n",
        "  a=a//5\n",
        "  zeros=zeros+a\n",
        "print(\"Number of zeros at end of %d! are %d\" %(x,zeros)) \n"
      ],
      "execution_count": 3,
      "outputs": [
        {
          "output_type": "stream",
          "text": [
            "100\n",
            "Find number of zeros at last of 100! ?\n",
            "Number of zeros at end of 100! are 24\n"
          ],
          "name": "stdout"
        }
      ]
    },
    {
      "cell_type": "code",
      "metadata": {
        "id": "3PZEvnPjFMcL",
        "colab_type": "code",
        "colab": {}
      },
      "source": [
        ""
      ],
      "execution_count": null,
      "outputs": []
    }
  ]
}